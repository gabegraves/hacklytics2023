{
 "cells": [
  {
   "cell_type": "code",
   "execution_count": 12,
   "metadata": {},
   "outputs": [],
   "source": [
    "from pulp import *\n",
    "import pulp\n",
    "import numpy as np\n",
    "from grid_solve import solve_lp, solve_random_lp\n",
    "\n"
   ]
  },
  {
   "cell_type": "code",
   "execution_count": 13,
   "metadata": {},
   "outputs": [
    {
     "name": "stdout",
     "output_type": "stream",
     "text": [
      "Welcome to the CBC MILP Solver \n",
      "Version: 2.10.3 \n",
      "Build Date: Dec 15 2019 \n",
      "\n",
      "command line - /Users/akshgarg/opt/anaconda3/envs/ML/lib/python3.7/site-packages/pulp/solverdir/cbc/osx/64/cbc /var/folders/ld/prbck6fj4tn7tt5rq173lfj40000gp/T/a45dfe3ae9a542f5bd6ff99f4abb5da6-pulp.mps timeMode elapsed branch printingOptions all solution /var/folders/ld/prbck6fj4tn7tt5rq173lfj40000gp/T/a45dfe3ae9a542f5bd6ff99f4abb5da6-pulp.sol (default strategy 1)\n",
      "At line 2 NAME          MODEL\n",
      "At line 3 ROWS\n",
      "At line 331 COLUMNS\n",
      "At line 1766 RHS\n",
      "At line 2093 BOUNDS\n",
      "At line 2329 ENDATA\n",
      "Problem MODEL has 326 rows, 235 columns and 819 elements\n",
      "Coin0008I MODEL read with 0 errors\n",
      "Option for timeMode changed from cpu to elapsed\n",
      "Continuous objective value is 118 - 0.00 seconds\n",
      "Cgl0004I processed model has 167 rows, 168 columns (168 integer (0 of which binary)) and 530 elements\n",
      "Cutoff increment increased from 1e-05 to 0.0999\n",
      "Cbc0012I Integer solution of 118 found by DiveCoefficient after 0 iterations and 0 nodes (0.01 seconds)\n",
      "Cbc0001I Search completed - best objective 118, took 0 iterations and 0 nodes (0.01 seconds)\n",
      "Cbc0035I Maximum depth 0, 0 variables fixed on reduced cost\n",
      "Cuts at root node changed objective from 118 to 118\n",
      "Probing was tried 0 times and created 0 cuts of which 0 were active after adding rounds of cuts (0.000 seconds)\n",
      "Gomory was tried 0 times and created 0 cuts of which 0 were active after adding rounds of cuts (0.000 seconds)\n",
      "Knapsack was tried 0 times and created 0 cuts of which 0 were active after adding rounds of cuts (0.000 seconds)\n",
      "Clique was tried 0 times and created 0 cuts of which 0 were active after adding rounds of cuts (0.000 seconds)\n",
      "MixedIntegerRounding2 was tried 0 times and created 0 cuts of which 0 were active after adding rounds of cuts (0.000 seconds)\n",
      "FlowCover was tried 0 times and created 0 cuts of which 0 were active after adding rounds of cuts (0.000 seconds)\n",
      "TwoMirCuts was tried 0 times and created 0 cuts of which 0 were active after adding rounds of cuts (0.000 seconds)\n",
      "ZeroHalf was tried 0 times and created 0 cuts of which 0 were active after adding rounds of cuts (0.000 seconds)\n",
      "\n",
      "Result - Optimal solution found\n",
      "\n",
      "Objective value:                118.00000000\n",
      "Enumerated nodes:               0\n",
      "Total iterations:               0\n",
      "Time (CPU seconds):             0.01\n",
      "Time (Wallclock seconds):       0.01\n",
      "\n",
      "Option for printingOptions changed from normal to all\n",
      "Total time (CPU seconds):       0.01   (Wallclock seconds):       0.02\n",
      "\n",
      "Objective = 118.0\n"
     ]
    },
    {
     "data": {
      "text/plain": [
       "1"
      ]
     },
     "execution_count": 13,
     "metadata": {},
     "output_type": "execute_result"
    }
   ],
   "source": [
    "size = 20\n",
    "vehicle_start = np.array([[0,0]])\n",
    "vehicle_end = np.array([[size, size]])\n",
    "charger_loc = np.array([[10,10], [5, 5], [90, 90]])\n",
    "charger_co2s = np.array([0.1, 0.2, 0.3])\n",
    "start_battery = [30]\n",
    "ending_battery = [10]\n",
    "T = 30\n",
    "prob, objective, x_out, c_out, b_out, c_cond_out, starts, ends =  solve_lp(T, vehicle_start, vehicle_end, charger_loc, charger_co2s, start_battery, ending_battery, speed=10, num_chargers_per_station=5, max_rate_of_charge=3, battery_per_mile=1, grid_size=size)\n",
    "prob.status"
   ]
  },
  {
   "cell_type": "code",
   "execution_count": 9,
   "metadata": {},
   "outputs": [
    {
     "data": {
      "text/plain": [
       "array([[[ 0.,  0.],\n",
       "        [ 0., 10.],\n",
       "        [10., 10.],\n",
       "        [15., 14.],\n",
       "        [15., 17.],\n",
       "        [18., 17.],\n",
       "        [18., 20.],\n",
       "        [20., 20.],\n",
       "        [20., 20.],\n",
       "        [20., 20.],\n",
       "        [20., 20.],\n",
       "        [20., 20.],\n",
       "        [20., 20.],\n",
       "        [20., 20.],\n",
       "        [20., 20.],\n",
       "        [20., 20.],\n",
       "        [20., 20.],\n",
       "        [20., 20.],\n",
       "        [20., 20.],\n",
       "        [20., 20.],\n",
       "        [20., 20.],\n",
       "        [20., 20.],\n",
       "        [20., 20.],\n",
       "        [20., 20.],\n",
       "        [20., 20.],\n",
       "        [20., 20.],\n",
       "        [20., 20.],\n",
       "        [20., 20.],\n",
       "        [20., 20.],\n",
       "        [20., 20.]]])"
      ]
     },
     "execution_count": 9,
     "metadata": {},
     "output_type": "execute_result"
    }
   ],
   "source": [
    "x_out"
   ]
  },
  {
   "cell_type": "code",
   "execution_count": 10,
   "metadata": {},
   "outputs": [
    {
     "data": {
      "text/plain": [
       "array([[30., 23., 16., 10., 10., 10., 10., 10., 10., 10., 10., 10., 10.,\n",
       "        10., 10., 10., 10., 10., 10., 10., 10., 10., 10., 10., 10., 10.,\n",
       "        10., 10., 10., 10.]])"
      ]
     },
     "execution_count": 10,
     "metadata": {},
     "output_type": "execute_result"
    }
   ],
   "source": [
    "b_out"
   ]
  },
  {
   "cell_type": "code",
   "execution_count": 11,
   "metadata": {},
   "outputs": [
    {
     "data": {
      "text/plain": [
       "array([[[3., 3., 3., 3., 3., 3., 2., 0., 0., 0., 0., 0., 0., 0., 0., 0.,\n",
       "         0., 0., 0., 0., 0., 0., 0., 0., 0., 0., 0., 0., 0.],\n",
       "        [0., 0., 0., 0., 0., 0., 0., 0., 0., 0., 0., 0., 0., 0., 0., 0.,\n",
       "         0., 0., 0., 0., 0., 0., 0., 0., 0., 0., 0., 0., 0.],\n",
       "        [0., 0., 0., 0., 0., 0., 0., 0., 0., 0., 0., 0., 0., 0., 0., 0.,\n",
       "         0., 0., 0., 0., 0., 0., 0., 0., 0., 0., 0., 0., 0.]]])"
      ]
     },
     "execution_count": 11,
     "metadata": {},
     "output_type": "execute_result"
    }
   ],
   "source": [
    "c_out"
   ]
  },
  {
   "cell_type": "code",
   "execution_count": 6,
   "metadata": {},
   "outputs": [
    {
     "data": {
      "text/plain": [
       "array([[[nan, nan, nan, nan, nan, nan, nan, nan, nan, nan, nan, nan,\n",
       "         nan, nan, nan, nan, nan, nan, nan, nan, nan, nan, nan, nan,\n",
       "         nan, nan, nan, nan, nan],\n",
       "        [nan, nan, nan, nan, nan, nan, nan, nan, nan, nan, nan, nan,\n",
       "         nan, nan, nan, nan, nan, nan, nan, nan, nan, nan, nan, nan,\n",
       "         nan, nan, nan, nan, nan],\n",
       "        [nan, nan, nan, nan, nan, nan, nan, nan, nan, nan, nan, nan,\n",
       "         nan, nan, nan, nan, nan, nan, nan, nan, nan, nan, nan, nan,\n",
       "         nan, nan, nan, nan, nan]]])"
      ]
     },
     "execution_count": 6,
     "metadata": {},
     "output_type": "execute_result"
    }
   ],
   "source": [
    "c_cond_out"
   ]
  },
  {
   "cell_type": "code",
   "execution_count": null,
   "metadata": {},
   "outputs": [],
   "source": []
  }
 ],
 "metadata": {
  "kernelspec": {
   "display_name": "Python 3",
   "language": "python",
   "name": "python3"
  },
  "language_info": {
   "codemirror_mode": {
    "name": "ipython",
    "version": 3
   },
   "file_extension": ".py",
   "mimetype": "text/x-python",
   "name": "python",
   "nbconvert_exporter": "python",
   "pygments_lexer": "ipython3",
   "version": "3.7.11"
  },
  "orig_nbformat": 4,
  "vscode": {
   "interpreter": {
    "hash": "94fa7208ed402638a4ddd009842c45bb2f4901b98f3719834639474cb6b55fee"
   }
  }
 },
 "nbformat": 4,
 "nbformat_minor": 2
}
